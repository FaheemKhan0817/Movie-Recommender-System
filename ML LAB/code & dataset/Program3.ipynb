{
 "cells": [
  {
   "cell_type": "markdown",
   "id": "e0650d5d",
   "metadata": {},
   "source": [
    "<h3>3. Write a Program to handle missing value using fillna(), replace() and interpolate()</h3><br>"
   ]
  },
  {
   "cell_type": "markdown",
   "id": "67196bc7",
   "metadata": {},
   "source": [
    "<p>\n",
    "Pandas treat None and NaN as essentially interchangeable for indicating missing or null values. To facilitate this convention, there are several useful functions for detecting, removing, and replacing null values in Pandas DataFrame :\n",
    "<li>fillna()</li>\n",
    "<li>replace()</li>\n",
    "<li>interpolate()</li>\n",
    "</p>\n",
    "<h3>1. fillna()</h3>"
   ]
  },
  {
   "cell_type": "code",
   "execution_count": 28,
   "id": "73085a54",
   "metadata": {},
   "outputs": [
    {
     "name": "stdout",
     "output_type": "stream",
     "text": [
      "   First Score  Second Score  Third Score\n",
      "0        100.0          30.0          NaN\n",
      "1         90.0          45.0         40.0\n",
      "2         90.0          56.0         80.0\n",
      "3         95.0          56.0         98.0\n",
      "\n",
      "\n",
      "   First Score  Second Score  Third Score\n",
      "0        100.0          30.0          NaN\n",
      "1         90.0          45.0         40.0\n",
      "2         90.0          56.0         80.0\n",
      "3         95.0          56.0         98.0\n",
      "\n",
      "\n",
      "   First Score  Second Score  Third Score\n",
      "0        100.0          30.0         40.0\n",
      "1         90.0          45.0         40.0\n",
      "2         95.0          56.0         80.0\n",
      "3         95.0           NaN         98.0\n"
     ]
    }
   ],
   "source": [
    "# importing pandas as pd\n",
    "import pandas as pd\n",
    "\n",
    "# importing numpy as np\n",
    "import numpy as np\n",
    "\n",
    "# dictionary of lists\n",
    "dict = {'First Score':[100, 90, np.nan, 95],\n",
    "        'Second Score': [30, 45, 56, np.nan],\n",
    "        'Third Score':[np.nan, 40, 80, 98]}\n",
    "\n",
    "# creating a dataframe from dictionary\n",
    "df = pd.DataFrame(dict)\n",
    "# filling a missing value with previous ones\n",
    "df1=df.fillna(method ='pad')\n",
    "# filling a missing value with forward fill method\n",
    "df2=df.fillna(method ='ffill')\n",
    "# filling a missing value with backward fill method\n",
    "df3=df.fillna(method ='bfill')\n",
    "print(df1)\n",
    "print(\"\\n\")\n",
    "print(df2)\n",
    "print(\"\\n\")\n",
    "print(df3)"
   ]
  },
  {
   "cell_type": "markdown",
   "id": "872f3f12",
   "metadata": {},
   "source": [
    "<h3>2. replace()</h3>"
   ]
  },
  {
   "cell_type": "code",
   "execution_count": 29,
   "id": "ac473ad6",
   "metadata": {},
   "outputs": [
    {
     "data": {
      "text/html": [
       "<div>\n",
       "<style scoped>\n",
       "    .dataframe tbody tr th:only-of-type {\n",
       "        vertical-align: middle;\n",
       "    }\n",
       "\n",
       "    .dataframe tbody tr th {\n",
       "        vertical-align: top;\n",
       "    }\n",
       "\n",
       "    .dataframe thead th {\n",
       "        text-align: right;\n",
       "    }\n",
       "</style>\n",
       "<table border=\"1\" class=\"dataframe\">\n",
       "  <thead>\n",
       "    <tr style=\"text-align: right;\">\n",
       "      <th></th>\n",
       "      <th>First Score</th>\n",
       "      <th>Second Score</th>\n",
       "      <th>Third Score</th>\n",
       "    </tr>\n",
       "  </thead>\n",
       "  <tbody>\n",
       "    <tr>\n",
       "      <th>0</th>\n",
       "      <td>100.0</td>\n",
       "      <td>30.0</td>\n",
       "      <td>-99.0</td>\n",
       "    </tr>\n",
       "    <tr>\n",
       "      <th>1</th>\n",
       "      <td>90.0</td>\n",
       "      <td>45.0</td>\n",
       "      <td>40.0</td>\n",
       "    </tr>\n",
       "    <tr>\n",
       "      <th>2</th>\n",
       "      <td>-99.0</td>\n",
       "      <td>56.0</td>\n",
       "      <td>80.0</td>\n",
       "    </tr>\n",
       "    <tr>\n",
       "      <th>3</th>\n",
       "      <td>95.0</td>\n",
       "      <td>-99.0</td>\n",
       "      <td>98.0</td>\n",
       "    </tr>\n",
       "  </tbody>\n",
       "</table>\n",
       "</div>"
      ],
      "text/plain": [
       "   First Score  Second Score  Third Score\n",
       "0        100.0          30.0        -99.0\n",
       "1         90.0          45.0         40.0\n",
       "2        -99.0          56.0         80.0\n",
       "3         95.0         -99.0         98.0"
      ]
     },
     "execution_count": 29,
     "metadata": {},
     "output_type": "execute_result"
    }
   ],
   "source": [
    "df\n",
    "# will replace  Nan value in dataframe with value -99 \n",
    "df.replace(to_replace = np.nan, value = -99)"
   ]
  },
  {
   "cell_type": "markdown",
   "id": "95344400",
   "metadata": {},
   "source": [
    "<h3>3. Using interpolate() function to fill the missing values using linear method. </h3>"
   ]
  },
  {
   "cell_type": "markdown",
   "id": "482382d9",
   "metadata": {},
   "source": [
    "<h4>Interpolate the missing values using Linear method. Note that Linear method ignore the index and treat the values as equally spaced</h4>"
   ]
  },
  {
   "cell_type": "code",
   "execution_count": 30,
   "id": "34c82b78",
   "metadata": {},
   "outputs": [
    {
     "data": {
      "text/html": [
       "<div>\n",
       "<style scoped>\n",
       "    .dataframe tbody tr th:only-of-type {\n",
       "        vertical-align: middle;\n",
       "    }\n",
       "\n",
       "    .dataframe tbody tr th {\n",
       "        vertical-align: top;\n",
       "    }\n",
       "\n",
       "    .dataframe thead th {\n",
       "        text-align: right;\n",
       "    }\n",
       "</style>\n",
       "<table border=\"1\" class=\"dataframe\">\n",
       "  <thead>\n",
       "    <tr style=\"text-align: right;\">\n",
       "      <th></th>\n",
       "      <th>First Score</th>\n",
       "      <th>Second Score</th>\n",
       "      <th>Third Score</th>\n",
       "    </tr>\n",
       "  </thead>\n",
       "  <tbody>\n",
       "    <tr>\n",
       "      <th>0</th>\n",
       "      <td>100.0</td>\n",
       "      <td>30.0</td>\n",
       "      <td>NaN</td>\n",
       "    </tr>\n",
       "    <tr>\n",
       "      <th>1</th>\n",
       "      <td>90.0</td>\n",
       "      <td>45.0</td>\n",
       "      <td>40.0</td>\n",
       "    </tr>\n",
       "    <tr>\n",
       "      <th>2</th>\n",
       "      <td>92.5</td>\n",
       "      <td>56.0</td>\n",
       "      <td>80.0</td>\n",
       "    </tr>\n",
       "    <tr>\n",
       "      <th>3</th>\n",
       "      <td>95.0</td>\n",
       "      <td>56.0</td>\n",
       "      <td>98.0</td>\n",
       "    </tr>\n",
       "  </tbody>\n",
       "</table>\n",
       "</div>"
      ],
      "text/plain": [
       "   First Score  Second Score  Third Score\n",
       "0        100.0          30.0          NaN\n",
       "1         90.0          45.0         40.0\n",
       "2         92.5          56.0         80.0\n",
       "3         95.0          56.0         98.0"
      ]
     },
     "execution_count": 30,
     "metadata": {},
     "output_type": "execute_result"
    }
   ],
   "source": [
    "# to interpolate the missing values\n",
    "df.interpolate(method ='linear', limit_direction ='forward')"
   ]
  },
  {
   "cell_type": "markdown",
   "id": "7ec60725",
   "metadata": {},
   "source": [
    "<h3>4. Dropping missing values using dropna()</h3>"
   ]
  },
  {
   "cell_type": "code",
   "execution_count": 31,
   "id": "c3e3518c",
   "metadata": {},
   "outputs": [
    {
     "name": "stdout",
     "output_type": "stream",
     "text": [
      "   First Score  Second Score  Third Score  Fourth Score\n",
      "0        100.0          30.0           52           NaN\n",
      "1         90.0           NaN           40           NaN\n",
      "2          NaN          45.0           80           NaN\n",
      "3         95.0          56.0           98          65.0\n",
      "\n",
      "After DropNa():\n",
      "    First Score  Second Score  Third Score  Fourth Score\n",
      "3         95.0          56.0           98          65.0\n"
     ]
    }
   ],
   "source": [
    "# importing pandas as pd\n",
    "import pandas as pd\n",
    "\n",
    "# importing numpy as np\n",
    "import numpy as np\n",
    "\n",
    "# dictionary of lists\n",
    "dict = {'First Score':[100, 90, np.nan, 95],\n",
    "        'Second Score': [30, np.nan, 45, 56],\n",
    "        'Third Score':[52, 40, 80, 98],\n",
    "        'Fourth Score':[np.nan, np.nan, np.nan, 65]}\n",
    "\n",
    "# creating a dataframe from dictionary\n",
    "df = pd.DataFrame(dict)\n",
    "print(df)\n",
    "#drop NaN value \n",
    "clean_data= df.dropna()\n",
    "print(\"\\nAfter DropNa():\\n\",clean_data)"
   ]
  }
 ],
 "metadata": {
  "kernelspec": {
   "display_name": "Python 3 (ipykernel)",
   "language": "python",
   "name": "python3"
  },
  "language_info": {
   "codemirror_mode": {
    "name": "ipython",
    "version": 3
   },
   "file_extension": ".py",
   "mimetype": "text/x-python",
   "name": "python",
   "nbconvert_exporter": "python",
   "pygments_lexer": "ipython3",
   "version": "3.9.7"
  }
 },
 "nbformat": 4,
 "nbformat_minor": 5
}
