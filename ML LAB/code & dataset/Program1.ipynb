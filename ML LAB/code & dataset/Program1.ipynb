{
 "cells": [
  {
   "cell_type": "markdown",
   "id": "cccbb1d1",
   "metadata": {},
   "source": [
    "<h3>1. Write a Python program to Find union and intersection of two list</h3> <br>"
   ]
  },
  {
   "cell_type": "code",
   "execution_count": 3,
   "id": "513614ad",
   "metadata": {},
   "outputs": [
    {
     "name": "stdout",
     "output_type": "stream",
     "text": [
      "Enter the number of elements in first list:3\n",
      "Enter the element of first list:2\n",
      "Enter the element of first list:3\n",
      "Enter the element of first list:4\n",
      "First list is:  [2, 3, 4]\n",
      "Enter the number of elements in second list:3\n",
      "Enter the element of second list:3\n",
      "Enter the element of second list:4\n",
      "Enter the element of second list:5\n",
      "second list is:  [3, 4, 5]\n",
      "Union of: [2, 3, 4] and  [3, 4, 5] is:  [2, 3, 4, 5]\n",
      "Intersection of  [2, 3, 4] and  [3, 4, 5] is [3, 4]\n"
     ]
    }
   ],
   "source": [
    "l1 = list()\n",
    "l2 = list()\n",
    "l3 = list()\n",
    "l4= list()\n",
    "\n",
    "n1 = int(input(\"Enter the number of elements in first list:\"))\n",
    "for i in range(n1):\n",
    "    ele = int(input(\"Enter the element of first list:\"))\n",
    "    l1.append(ele)\n",
    "\n",
    "print(\"First list is: \",l1)\n",
    "\n",
    "n2 = int(input(\"Enter the number of elements in second list:\"))\n",
    "for i in range(n2):\n",
    "    ele = int(input(\"Enter the element of second list:\"))\n",
    "    l2.append(ele)\n",
    "\n",
    "print(\"second list is: \",l2)\n",
    "\n",
    "l3.extend(l1)\n",
    "for ele in l2:\n",
    "    if ele in l3:\n",
    "        continue\n",
    "    l3.append(ele)\n",
    "    \n",
    "print(\"Union of:\", l1, \"and \", l2, \"is: \",l3)\n",
    "\n",
    "for ele in l1:\n",
    "    if ele in l2:\n",
    "        l4.append(ele)\n",
    "        \n",
    "print (\"Intersection of \", l1, \"and \", l2, \"is\", l4)"
   ]
  },
  {
   "cell_type": "code",
   "execution_count": null,
   "id": "82f690c1",
   "metadata": {},
   "outputs": [],
   "source": []
  }
 ],
 "metadata": {
  "kernelspec": {
   "display_name": "Python 3 (ipykernel)",
   "language": "python",
   "name": "python3"
  },
  "language_info": {
   "codemirror_mode": {
    "name": "ipython",
    "version": 3
   },
   "file_extension": ".py",
   "mimetype": "text/x-python",
   "name": "python",
   "nbconvert_exporter": "python",
   "pygments_lexer": "ipython3",
   "version": "3.9.7"
  }
 },
 "nbformat": 4,
 "nbformat_minor": 5
}
