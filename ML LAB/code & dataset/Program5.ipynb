{
 "cells": [
  {
   "cell_type": "markdown",
   "id": "06a2c837",
   "metadata": {},
   "source": [
    "<h3>5. Write a Program to handle categorical data (One Hot Enconding)</h3> <br>\n",
    "<h3>Code: Python code implementation of Manual One-Hot Encoding Technique Loading the data </h3>"
   ]
  },
  {
   "cell_type": "code",
   "execution_count": 7,
   "id": "3ac3ee0c",
   "metadata": {},
   "outputs": [
    {
     "name": "stdout",
     "output_type": "stream",
     "text": [
      "   HEIGHT(IN CMS)  WEIGHT(IN KGS) T SHIRT SIZE\n",
      "0             158              58            M\n",
      "1             158              59            M\n",
      "2             158              63            M\n",
      "3             160              59            M\n",
      "4             160              60            M\n"
     ]
    }
   ],
   "source": [
    "# Program for demonstration of one hot encoding\n",
    "\n",
    "# import libraries\n",
    "import numpy as np\n",
    "import pandas as pd\n",
    "\n",
    "# import the data required\n",
    "data = pd.read_excel(\"T-shirt dataset.xls\")\n",
    "print(data.head())\n"
   ]
  },
  {
   "cell_type": "code",
   "execution_count": 8,
   "id": "7bad1f4f",
   "metadata": {},
   "outputs": [
    {
     "name": "stdout",
     "output_type": "stream",
     "text": [
      "['M' 'L']\n"
     ]
    }
   ],
   "source": [
    "#Checking for the labels in the categorical parameters \n",
    "print(data['T SHIRT SIZE'].unique())"
   ]
  },
  {
   "cell_type": "code",
   "execution_count": 9,
   "id": "43878511",
   "metadata": {},
   "outputs": [
    {
     "data": {
      "text/plain": [
       "M    15\n",
       "L    11\n",
       "Name: T SHIRT SIZE, dtype: int64"
      ]
     },
     "execution_count": 9,
     "metadata": {},
     "output_type": "execute_result"
    }
   ],
   "source": [
    "#Checking for the label counts in the categorical parameters\n",
    "data['T SHIRT SIZE'].value_counts()"
   ]
  },
  {
   "cell_type": "code",
   "execution_count": 10,
   "id": "ad070a45",
   "metadata": {},
   "outputs": [
    {
     "name": "stdout",
     "output_type": "stream",
     "text": [
      "    HEIGHT(IN CMS)  WEIGHT(IN KGS)  T SHIRT SIZE_L  T SHIRT SIZE_M\n",
      "0              158              58               0               1\n",
      "1              158              59               0               1\n",
      "2              158              63               0               1\n",
      "3              160              59               0               1\n",
      "4              160              60               0               1\n",
      "5              163              60               0               1\n",
      "6              163              61               0               1\n",
      "7              160              64               1               0\n",
      "8              163              64               1               0\n",
      "9              165              61               1               0\n",
      "10             165              62               1               0\n",
      "11             165              65               1               0\n",
      "12             168              62               1               0\n",
      "13             168              63               1               0\n",
      "14             168              66               1               0\n",
      "15             170              63               1               0\n",
      "16             170              64               1               0\n",
      "17             170              68               1               0\n",
      "18             156              55               0               1\n",
      "19             157              57               0               1\n",
      "20             158              61               0               1\n",
      "21             159              62               0               1\n",
      "22             160              59               0               1\n",
      "23             161              55               0               1\n",
      "24             162              58               0               1\n",
      "25             163              60               0               1\n"
     ]
    }
   ],
   "source": [
    "#One-Hot encoding the categorical parameters using get_dummies() \n",
    "one_hot_encoded_data = pd.get_dummies(data, columns = ['T SHIRT SIZE'])\n",
    "print(one_hot_encoded_data)"
   ]
  },
  {
   "cell_type": "markdown",
   "id": "de9f95ed",
   "metadata": {},
   "source": [
    "<h3>One Hot Encoding using Sci-kit learn Library: </h3>"
   ]
  },
  {
   "cell_type": "code",
   "execution_count": 11,
   "id": "0502f9c8",
   "metadata": {},
   "outputs": [
    {
     "name": "stdout",
     "output_type": "stream",
     "text": [
      "    HEIGHT(IN CMS)  WEIGHT(IN KGS) T SHIRT SIZE  T SHIRT SIZE_new    0    1\n",
      "0              158              58            M                 1  0.0  1.0\n",
      "1              158              59            M                 1  0.0  1.0\n",
      "2              158              63            M                 1  0.0  1.0\n",
      "3              160              59            M                 1  0.0  1.0\n",
      "4              160              60            M                 1  0.0  1.0\n",
      "5              163              60            M                 1  0.0  1.0\n",
      "6              163              61            M                 1  0.0  1.0\n",
      "7              160              64            L                 0  1.0  0.0\n",
      "8              163              64            L                 0  1.0  0.0\n",
      "9              165              61            L                 0  1.0  0.0\n",
      "10             165              62            L                 0  1.0  0.0\n",
      "11             165              65            L                 0  1.0  0.0\n",
      "12             168              62            L                 0  1.0  0.0\n",
      "13             168              63            L                 0  1.0  0.0\n",
      "14             168              66            L                 0  1.0  0.0\n",
      "15             170              63            L                 0  1.0  0.0\n",
      "16             170              64            L                 0  1.0  0.0\n",
      "17             170              68            L                 0  1.0  0.0\n",
      "18             156              55            M                 1  0.0  1.0\n",
      "19             157              57            M                 1  0.0  1.0\n",
      "20             158              61            M                 1  0.0  1.0\n",
      "21             159              62            M                 1  0.0  1.0\n",
      "22             160              59            M                 1  0.0  1.0\n",
      "23             161              55            M                 1  0.0  1.0\n",
      "24             162              58            M                 1  0.0  1.0\n",
      "25             163              60            M                 1  0.0  1.0\n"
     ]
    }
   ],
   "source": [
    "#importing libraries\n",
    "import pandas as pd\n",
    "import numpy as np\n",
    "from sklearn.preprocessing import OneHotEncoder\n",
    "\n",
    "#Retrieving data\n",
    "data = pd.read_excel(\"T-shirt dataset.xls\")\n",
    "\n",
    "# Converting type of columns to category\n",
    "data['T SHIRT SIZE']=data['T SHIRT SIZE'].astype('category')\n",
    "\n",
    "\n",
    "\n",
    "#Assigning numerical values and storing it in another columns\n",
    "data['T SHIRT SIZE_new']=data['T SHIRT SIZE'].cat.codes\n",
    "\n",
    "\n",
    "#Create an instance of One-hot-encoder\n",
    "enc=OneHotEncoder()\n",
    "\n",
    "#Passing encoded columns\n",
    "enc_data=pd.DataFrame(enc.fit_transform(data[['T SHIRT SIZE_new']]).toarray())\n",
    "\n",
    "#Merge with main\n",
    "New_df=data.join(enc_data)\n",
    "\n",
    "print(New_df)\n"
   ]
  }
 ],
 "metadata": {
  "kernelspec": {
   "display_name": "Python 3 (ipykernel)",
   "language": "python",
   "name": "python3"
  },
  "language_info": {
   "codemirror_mode": {
    "name": "ipython",
    "version": 3
   },
   "file_extension": ".py",
   "mimetype": "text/x-python",
   "name": "python",
   "nbconvert_exporter": "python",
   "pygments_lexer": "ipython3",
   "version": "3.9.7"
  }
 },
 "nbformat": 4,
 "nbformat_minor": 5
}
