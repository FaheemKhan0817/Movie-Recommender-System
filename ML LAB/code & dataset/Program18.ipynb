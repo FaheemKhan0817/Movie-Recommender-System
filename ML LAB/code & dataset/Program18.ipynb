{
 "cells": [
  {
   "cell_type": "markdown",
   "id": "757b6d39",
   "metadata": {},
   "source": [
    "<h3>18. Write a Program to implement Ensemble learning (Model 1: DT, Model 2: SVM, Model 3: Logistic, Model 4: KNN) using T-shirt size dataset.</h3><br>\n",
    "<strong>Ensemble Learning:</strong> <p>Ensemble methods are meta-algorithms that combine several machine learning techniques into one predictive model in order to decrease variance (bagging), bias (boosting), or improve predictions (stacking).</p>\n",
    "<img src=Ensemble_learning.png height=300 width=300>\n",
    "<h5>Model 1: Logistic<br>Model 2 : Decision Tree<br>Model 3: SVM <br> Model 4: KNN</h5>"
   ]
  },
  {
   "cell_type": "code",
   "execution_count": 1,
   "id": "8a7c9994",
   "metadata": {},
   "outputs": [],
   "source": [
    "#importing Reauired library \n",
    "import numpy as np\n",
    "import pandas as pd\n",
    "from sklearn.tree import DecisionTreeClassifier\n",
    "from sklearn.linear_model import LogisticRegression\n",
    "from sklearn.svm import SVC\n",
    "from sklearn.neighbors import KNeighborsClassifier"
   ]
  },
  {
   "cell_type": "code",
   "execution_count": 2,
   "id": "cdde222e",
   "metadata": {},
   "outputs": [],
   "source": [
    "dataset= pd.read_excel('T-shirt dataset.xls')"
   ]
  },
  {
   "cell_type": "code",
   "execution_count": 3,
   "id": "bbeee90c",
   "metadata": {},
   "outputs": [
    {
     "data": {
      "text/plain": [
       "(26, 3)"
      ]
     },
     "execution_count": 3,
     "metadata": {},
     "output_type": "execute_result"
    }
   ],
   "source": [
    "dataset.shape"
   ]
  },
  {
   "cell_type": "code",
   "execution_count": 4,
   "id": "de529cf4",
   "metadata": {},
   "outputs": [
    {
     "data": {
      "text/html": [
       "<div>\n",
       "<style scoped>\n",
       "    .dataframe tbody tr th:only-of-type {\n",
       "        vertical-align: middle;\n",
       "    }\n",
       "\n",
       "    .dataframe tbody tr th {\n",
       "        vertical-align: top;\n",
       "    }\n",
       "\n",
       "    .dataframe thead th {\n",
       "        text-align: right;\n",
       "    }\n",
       "</style>\n",
       "<table border=\"1\" class=\"dataframe\">\n",
       "  <thead>\n",
       "    <tr style=\"text-align: right;\">\n",
       "      <th></th>\n",
       "      <th>HEIGHT(IN CMS)</th>\n",
       "      <th>WEIGHT(IN KGS)</th>\n",
       "      <th>T SHIRT SIZE</th>\n",
       "    </tr>\n",
       "  </thead>\n",
       "  <tbody>\n",
       "    <tr>\n",
       "      <th>0</th>\n",
       "      <td>158</td>\n",
       "      <td>58</td>\n",
       "      <td>M</td>\n",
       "    </tr>\n",
       "    <tr>\n",
       "      <th>1</th>\n",
       "      <td>158</td>\n",
       "      <td>59</td>\n",
       "      <td>M</td>\n",
       "    </tr>\n",
       "    <tr>\n",
       "      <th>2</th>\n",
       "      <td>158</td>\n",
       "      <td>63</td>\n",
       "      <td>M</td>\n",
       "    </tr>\n",
       "    <tr>\n",
       "      <th>3</th>\n",
       "      <td>160</td>\n",
       "      <td>59</td>\n",
       "      <td>M</td>\n",
       "    </tr>\n",
       "    <tr>\n",
       "      <th>4</th>\n",
       "      <td>160</td>\n",
       "      <td>60</td>\n",
       "      <td>M</td>\n",
       "    </tr>\n",
       "  </tbody>\n",
       "</table>\n",
       "</div>"
      ],
      "text/plain": [
       "   HEIGHT(IN CMS)  WEIGHT(IN KGS) T SHIRT SIZE\n",
       "0             158              58            M\n",
       "1             158              59            M\n",
       "2             158              63            M\n",
       "3             160              59            M\n",
       "4             160              60            M"
      ]
     },
     "execution_count": 4,
     "metadata": {},
     "output_type": "execute_result"
    }
   ],
   "source": [
    "dataset.head()"
   ]
  },
  {
   "cell_type": "code",
   "execution_count": 5,
   "id": "753ac761",
   "metadata": {},
   "outputs": [
    {
     "data": {
      "text/plain": [
       "array(['M', 'M', 'M', 'M', 'M', 'M', 'M', 'L', 'L', 'L', 'L', 'L', 'L',\n",
       "       'L', 'L', 'L', 'L', 'L', 'M', 'M', 'M', 'M', 'M', 'M', 'M', 'M'],\n",
       "      dtype=object)"
      ]
     },
     "execution_count": 5,
     "metadata": {},
     "output_type": "execute_result"
    }
   ],
   "source": [
    "#independent attribute (height and weight)\n",
    "x = dataset.iloc[:,[0,1]].values \n",
    "#dependent attribute T-shirt size\n",
    "y = dataset.iloc[:,2].values\n",
    "y"
   ]
  },
  {
   "cell_type": "markdown",
   "id": "98151729",
   "metadata": {},
   "source": [
    "As we know that our T-shirt column is categorical data, we have to encode this attribute. LabelEncoder is used for encoding the data."
   ]
  },
  {
   "cell_type": "code",
   "execution_count": 6,
   "id": "5c91aa85",
   "metadata": {},
   "outputs": [],
   "source": [
    "from sklearn import preprocessing\n",
    "le = preprocessing.LabelEncoder() # le is an object from label encoder"
   ]
  },
  {
   "cell_type": "code",
   "execution_count": 7,
   "id": "ae177547",
   "metadata": {},
   "outputs": [],
   "source": [
    "y_new = y"
   ]
  },
  {
   "cell_type": "code",
   "execution_count": 8,
   "id": "0aba1523",
   "metadata": {},
   "outputs": [],
   "source": [
    "y_new=le.fit_transform(y_new)"
   ]
  },
  {
   "cell_type": "code",
   "execution_count": 9,
   "id": "f997fdba",
   "metadata": {},
   "outputs": [
    {
     "name": "stdout",
     "output_type": "stream",
     "text": [
      "['M' 'M' 'M' 'M' 'M' 'M' 'M' 'L' 'L' 'L' 'L' 'L' 'L' 'L' 'L' 'L' 'L' 'L'\n",
      " 'M' 'M' 'M' 'M' 'M' 'M' 'M' 'M']\n",
      "[1 1 1 1 1 1 1 0 0 0 0 0 0 0 0 0 0 0 1 1 1 1 1 1 1 1]\n"
     ]
    }
   ],
   "source": [
    "print(y) # values in the form of M / L\n",
    "print(y_new) # values in the form of 1 and 0"
   ]
  },
  {
   "cell_type": "code",
   "execution_count": 10,
   "id": "3003a54c",
   "metadata": {},
   "outputs": [],
   "source": [
    "y= y_new # updating y_new values in our target variable"
   ]
  },
  {
   "cell_type": "markdown",
   "id": "c713a46e",
   "metadata": {},
   "source": [
    "<h3>Splitting data into train and test </h3>"
   ]
  },
  {
   "cell_type": "code",
   "execution_count": 11,
   "id": "de8c150f",
   "metadata": {},
   "outputs": [],
   "source": [
    "# Split into training and test set\n",
    "from sklearn.model_selection import train_test_split\n",
    "x_train, x_test, y_train, y_test = train_test_split(x, y, test_size = 0.25, random_state=7)"
   ]
  },
  {
   "cell_type": "code",
   "execution_count": 12,
   "id": "1b293553",
   "metadata": {},
   "outputs": [],
   "source": [
    "from sklearn.linear_model import LogisticRegression\n",
    "from sklearn.tree import DecisionTreeClassifier\n",
    "from sklearn.svm import SVC\n",
    "from sklearn.neighbors import KNeighborsClassifier\n",
    "model1_logistic = LogisticRegression()\n",
    "model2_decision = DecisionTreeClassifier(max_depth=5) \n",
    "model3_SVM = SVC()\n",
    "model4_KNN = KNeighborsClassifier(n_neighbors=3, metric='euclidean')"
   ]
  },
  {
   "cell_type": "code",
   "execution_count": 13,
   "id": "cf9d8303",
   "metadata": {},
   "outputs": [
    {
     "data": {
      "text/plain": [
       "LogisticRegression()"
      ]
     },
     "execution_count": 13,
     "metadata": {},
     "output_type": "execute_result"
    }
   ],
   "source": [
    "model1_logistic.fit(x_train, y_train)"
   ]
  },
  {
   "cell_type": "code",
   "execution_count": 14,
   "id": "c8dd9d6a",
   "metadata": {},
   "outputs": [
    {
     "data": {
      "text/plain": [
       "DecisionTreeClassifier(max_depth=5)"
      ]
     },
     "execution_count": 14,
     "metadata": {},
     "output_type": "execute_result"
    }
   ],
   "source": [
    "model2_decision.fit(x_train, y_train)"
   ]
  },
  {
   "cell_type": "code",
   "execution_count": 15,
   "id": "b2804083",
   "metadata": {},
   "outputs": [
    {
     "data": {
      "text/plain": [
       "SVC()"
      ]
     },
     "execution_count": 15,
     "metadata": {},
     "output_type": "execute_result"
    }
   ],
   "source": [
    "model3_SVM.fit(x_train, y_train)"
   ]
  },
  {
   "cell_type": "code",
   "execution_count": 16,
   "id": "8be39aa4",
   "metadata": {},
   "outputs": [
    {
     "data": {
      "text/plain": [
       "KNeighborsClassifier(metric='euclidean', n_neighbors=3)"
      ]
     },
     "execution_count": 16,
     "metadata": {},
     "output_type": "execute_result"
    }
   ],
   "source": [
    "model4_KNN.fit(x_train, y_train)"
   ]
  },
  {
   "cell_type": "code",
   "execution_count": 17,
   "id": "c446545b",
   "metadata": {},
   "outputs": [],
   "source": [
    "y_pred1 = model1_logistic.predict(x_test) #LR\n",
    "y_pred2 = model2_decision.predict(x_test) #DT\n",
    "y_pred3 = model3_SVM.predict(x_test) #SVM\n",
    "y_pred4 = model4_KNN.predict(x_test) #KNN"
   ]
  },
  {
   "cell_type": "code",
   "execution_count": 18,
   "id": "2778454f",
   "metadata": {},
   "outputs": [
    {
     "name": "stdout",
     "output_type": "stream",
     "text": [
      "Actual y_test data :  [0 1 1 0 0 0 1]\n",
      "Prediction by LR :  [0 1 1 0 0 0 1]\n",
      "Prediction by DT : [0 1 1 0 0 1 1]\n",
      "Prediction by SVM :  [1 1 1 1 1 1 1]\n",
      "Prediction by KNN : [0 1 1 0 0 1 1]\n"
     ]
    }
   ],
   "source": [
    "print(\"Actual y_test data : \", y_test)\n",
    "print(\"Prediction by LR : \", y_pred1)\n",
    "print(\"Prediction by DT :\", y_pred2)\n",
    "print(\"Prediction by SVM : \", y_pred3)\n",
    "print(\"Prediction by KNN :\", y_pred4)"
   ]
  },
  {
   "cell_type": "markdown",
   "id": "b4bff436",
   "metadata": {},
   "source": [
    "<h3>Evaluation of Model </h3>"
   ]
  },
  {
   "cell_type": "code",
   "execution_count": 19,
   "id": "e607fc4e",
   "metadata": {},
   "outputs": [],
   "source": [
    "#confusiojn matrix for different models \n",
    "from sklearn.metrics import confusion_matrix\n",
    "cm_LR = confusion_matrix(y_test, y_pred1)\n",
    "cm_DT = confusion_matrix(y_test, y_pred2)\n",
    "cm_SVM = confusion_matrix(y_test, y_pred3)\n",
    "cm_KNN = confusion_matrix(y_test, y_pred4)"
   ]
  },
  {
   "cell_type": "code",
   "execution_count": 20,
   "id": "9aa9f546",
   "metadata": {},
   "outputs": [
    {
     "name": "stdout",
     "output_type": "stream",
     "text": [
      "Confusion_Matrix for LR:\n",
      " [[4 0]\n",
      " [0 3]]\n",
      "\n",
      "Confusion_Matrix for DT:\n",
      " [[3 1]\n",
      " [0 3]]\n",
      "\n",
      "Confusion_Matrix for SVM:\n",
      " [[0 4]\n",
      " [0 3]]\n",
      "\n",
      "Confusion_Matrix for KNN:\n",
      " [[3 1]\n",
      " [0 3]]\n"
     ]
    }
   ],
   "source": [
    "print(\"Confusion_Matrix for LR:\\n\", cm_LR)\n",
    "print(\"\\nConfusion_Matrix for DT:\\n\", cm_DT)\n",
    "print(\"\\nConfusion_Matrix for SVM:\\n\",cm_SVM)\n",
    "print(\"\\nConfusion_Matrix for KNN:\\n\",cm_KNN)"
   ]
  },
  {
   "cell_type": "code",
   "execution_count": 21,
   "id": "9c51f834",
   "metadata": {},
   "outputs": [],
   "source": [
    "#when we need to calculate the accuracy of model under classification\n",
    "#always use testing dataset to get the result.\n",
    "from sklearn.metrics import accuracy_score\n",
    "LR_acc = accuracy_score(y_pred1, y_test)\n",
    "DT_acc = accuracy_score(y_pred2, y_test)\n",
    "SVM_acc = accuracy_score(y_pred3, y_test)\n",
    "KNN_acc = accuracy_score(y_pred4, y_test)"
   ]
  },
  {
   "cell_type": "code",
   "execution_count": 22,
   "id": "acfaa508",
   "metadata": {},
   "outputs": [
    {
     "name": "stdout",
     "output_type": "stream",
     "text": [
      "Accuracy of LR: 1.0\n",
      "\n",
      "Accuracy of DT: 0.8571428571428571\n",
      "\n",
      "Accuracy of SVM: 0.42857142857142855\n",
      "\n",
      "Accuracy of KNN: 0.8571428571428571\n"
     ]
    }
   ],
   "source": [
    "print(\"Accuracy of LR:\", LR_acc)\n",
    "print(\"\\nAccuracy of DT:\", DT_acc)\n",
    "print(\"\\nAccuracy of SVM:\",SVM_acc)\n",
    "print(\"\\nAccuracy of KNN:\",KNN_acc)"
   ]
  },
  {
   "cell_type": "markdown",
   "id": "c3ba287a",
   "metadata": {},
   "source": [
    "<h3>Ensemble Learning Model</h3>"
   ]
  },
  {
   "cell_type": "markdown",
   "id": "d014bdce",
   "metadata": {},
   "source": [
    "<p>In this work, we have defined each of the four machine learning model 5 times (5*4=20). Then finally max voting classifier method is used where the class which has been predicted mostly by the week learners will be the fianl class prediction of the ensemble model. </p>"
   ]
  },
  {
   "cell_type": "code",
   "execution_count": 23,
   "id": "6a529884",
   "metadata": {},
   "outputs": [
    {
     "data": {
      "text/plain": [
       "[('logistic1', LogisticRegression()),\n",
       " ('logistic2', LogisticRegression()),\n",
       " ('logistic3', LogisticRegression()),\n",
       " ('logistic4', LogisticRegression()),\n",
       " ('logistic5', LogisticRegression())]"
      ]
     },
     "execution_count": 23,
     "metadata": {},
     "output_type": "execute_result"
    }
   ],
   "source": [
    "#estimator is a variable and it contains or append all the model details in list\n",
    "estimator = []\n",
    "#Definig 5 logistic Regression models\n",
    "#model11, model12, model13, model14, model15 are the object of LR\n",
    "model11=LogisticRegression()\n",
    "estimator.append(('logistic1', model11))\n",
    "model12=LogisticRegression()\n",
    "estimator.append(('logistic2', model12))\n",
    "model13=LogisticRegression()\n",
    "estimator.append(('logistic3', model13))\n",
    "model14=LogisticRegression()\n",
    "estimator.append(('logistic4', model14))\n",
    "model15=LogisticRegression()\n",
    "estimator.append(('logistic5', model15))\n",
    "\n",
    "#printing the value of estimators\n",
    "estimator"
   ]
  },
  {
   "cell_type": "code",
   "execution_count": 24,
   "id": "81850a4e",
   "metadata": {},
   "outputs": [
    {
     "data": {
      "text/plain": [
       "[('logistic1', LogisticRegression()),\n",
       " ('logistic2', LogisticRegression()),\n",
       " ('logistic3', LogisticRegression()),\n",
       " ('logistic4', LogisticRegression()),\n",
       " ('logistic5', LogisticRegression()),\n",
       " ('cart1', DecisionTreeClassifier(max_depth=2)),\n",
       " ('cart2', DecisionTreeClassifier(max_depth=5)),\n",
       " ('cart3', DecisionTreeClassifier(max_depth=3)),\n",
       " ('cart4', DecisionTreeClassifier(max_depth=6)),\n",
       " ('cart5', DecisionTreeClassifier(max_depth=1))]"
      ]
     },
     "execution_count": 24,
     "metadata": {},
     "output_type": "execute_result"
    }
   ],
   "source": [
    "#Definig 5 Decision Tree models\n",
    "#model21, model22, model23, model24, model25 are the object of DT\n",
    "model21=DecisionTreeClassifier(max_depth = 2)\n",
    "estimator.append(('cart1', model21))\n",
    "model22=DecisionTreeClassifier(max_depth = 5)\n",
    "estimator.append(('cart2', model22))\n",
    "model23=DecisionTreeClassifier(max_depth = 3)\n",
    "estimator.append(('cart3', model23))\n",
    "model24=DecisionTreeClassifier(max_depth = 6)\n",
    "estimator.append(('cart4', model24))\n",
    "model25=DecisionTreeClassifier(max_depth = 1)\n",
    "estimator.append(('cart5', model25))\n",
    "\n",
    "#printing the value of estimators\n",
    "estimator"
   ]
  },
  {
   "cell_type": "code",
   "execution_count": 25,
   "id": "5cad5459",
   "metadata": {},
   "outputs": [
    {
     "data": {
      "text/plain": [
       "[('logistic1', LogisticRegression()),\n",
       " ('logistic2', LogisticRegression()),\n",
       " ('logistic3', LogisticRegression()),\n",
       " ('logistic4', LogisticRegression()),\n",
       " ('logistic5', LogisticRegression()),\n",
       " ('cart1', DecisionTreeClassifier(max_depth=2)),\n",
       " ('cart2', DecisionTreeClassifier(max_depth=5)),\n",
       " ('cart3', DecisionTreeClassifier(max_depth=3)),\n",
       " ('cart4', DecisionTreeClassifier(max_depth=6)),\n",
       " ('cart5', DecisionTreeClassifier(max_depth=1)),\n",
       " ('svm1', SVC(kernel='linear')),\n",
       " ('svm2', SVC()),\n",
       " ('svm3', SVC(kernel='linear')),\n",
       " ('svm4', SVC(kernel='poly')),\n",
       " ('svm5', SVC(kernel='linear'))]"
      ]
     },
     "execution_count": 25,
     "metadata": {},
     "output_type": "execute_result"
    }
   ],
   "source": [
    "#Definig 5 SVM models\n",
    "#model31, model32, model33, model34, model35 are the object of SVM\n",
    "model31=SVC(kernel ='linear')\n",
    "estimator.append(('svm1', model31))\n",
    "model32=SVC(kernel ='rbf')\n",
    "estimator.append(('svm2', model32))\n",
    "model33=SVC(kernel ='linear')\n",
    "estimator.append(('svm3', model33))\n",
    "model34=SVC(kernel ='poly')\n",
    "estimator.append(('svm4', model34))\n",
    "model35=SVC(kernel ='linear')\n",
    "estimator.append(('svm5', model35))\n",
    "\n",
    "#printing the value of estimators\n",
    "estimator"
   ]
  },
  {
   "cell_type": "code",
   "execution_count": 26,
   "id": "6c25f038",
   "metadata": {},
   "outputs": [
    {
     "data": {
      "text/plain": [
       "[('logistic1', LogisticRegression()),\n",
       " ('logistic2', LogisticRegression()),\n",
       " ('logistic3', LogisticRegression()),\n",
       " ('logistic4', LogisticRegression()),\n",
       " ('logistic5', LogisticRegression()),\n",
       " ('cart1', DecisionTreeClassifier(max_depth=2)),\n",
       " ('cart2', DecisionTreeClassifier(max_depth=5)),\n",
       " ('cart3', DecisionTreeClassifier(max_depth=3)),\n",
       " ('cart4', DecisionTreeClassifier(max_depth=6)),\n",
       " ('cart5', DecisionTreeClassifier(max_depth=1)),\n",
       " ('svm1', SVC(kernel='linear')),\n",
       " ('svm2', SVC()),\n",
       " ('svm3', SVC(kernel='linear')),\n",
       " ('svm4', SVC(kernel='poly')),\n",
       " ('svm5', SVC(kernel='linear')),\n",
       " ('knn1', KNeighborsClassifier(metric='euclidean', n_neighbors=3)),\n",
       " ('knn2', KNeighborsClassifier(metric='euclidean')),\n",
       " ('knn3', KNeighborsClassifier(metric='euclidean', n_neighbors=4)),\n",
       " ('knn4', KNeighborsClassifier(metric='euclidean', n_neighbors=7)),\n",
       " ('knn5', KNeighborsClassifier(metric='euclidean', n_neighbors=2))]"
      ]
     },
     "execution_count": 26,
     "metadata": {},
     "output_type": "execute_result"
    }
   ],
   "source": [
    "#Definig 5 KNN models\n",
    "#model41, model42, model43, model44, model45 are the object of KNN\n",
    "model41=KNeighborsClassifier(n_neighbors = 3, metric ='euclidean')\n",
    "estimator.append(('knn1', model41))\n",
    "model42=KNeighborsClassifier(n_neighbors = 5, metric ='euclidean')\n",
    "estimator.append(('knn2', model42))\n",
    "model43=KNeighborsClassifier(n_neighbors = 4, metric ='euclidean')\n",
    "estimator.append(('knn3', model43))\n",
    "model44=KNeighborsClassifier(n_neighbors = 7, metric ='euclidean')\n",
    "estimator.append(('knn4', model44))\n",
    "model45=KNeighborsClassifier(n_neighbors = 2, metric ='euclidean')\n",
    "estimator.append(('knn5', model45))\n",
    "\n",
    "#printing the value of estimators\n",
    "estimator"
   ]
  },
  {
   "cell_type": "code",
   "execution_count": 27,
   "id": "08a4bfb0",
   "metadata": {},
   "outputs": [
    {
     "data": {
      "text/plain": [
       "VotingClassifier(estimators=[('logistic1', LogisticRegression()),\n",
       "                             ('logistic2', LogisticRegression()),\n",
       "                             ('logistic3', LogisticRegression()),\n",
       "                             ('logistic4', LogisticRegression()),\n",
       "                             ('logistic5', LogisticRegression()),\n",
       "                             ('cart1', DecisionTreeClassifier(max_depth=2)),\n",
       "                             ('cart2', DecisionTreeClassifier(max_depth=5)),\n",
       "                             ('cart3', DecisionTreeClassifier(max_depth=3)),\n",
       "                             ('cart4'...\n",
       "                             ('svm4', SVC(kernel='poly')),\n",
       "                             ('svm5', SVC(kernel='linear')),\n",
       "                             ('knn1',\n",
       "                              KNeighborsClassifier(metric='euclidean',\n",
       "                                                   n_neighbors=3)),\n",
       "                             ('knn2', KNeighborsClassifier(metric='euclidean')),\n",
       "                             ('knn3',\n",
       "                              KNeighborsClassifier(metric='euclidean',\n",
       "                                                   n_neighbors=4)),\n",
       "                             ('knn4',\n",
       "                              KNeighborsClassifier(metric='euclidean',\n",
       "                                                   n_neighbors=7)),\n",
       "                             ('knn5',\n",
       "                              KNeighborsClassifier(metric='euclidean',\n",
       "                                                   n_neighbors=2))])"
      ]
     },
     "execution_count": 27,
     "metadata": {},
     "output_type": "execute_result"
    }
   ],
   "source": [
    "#At last we need to ensemble our models by using estimators \n",
    "#variable and fit the model using estimator varaible\n",
    "#Defining the ensemble model\n",
    "# here we are using VotingClassifier because it is basic \n",
    "#ensemble learning model, others are bagging and boosting classifier\n",
    "from sklearn.ensemble import VotingClassifier\n",
    "ensemble = VotingClassifier(estimator)\n",
    "ensemble.fit(x_train, y_train)"
   ]
  },
  {
   "cell_type": "code",
   "execution_count": 28,
   "id": "57b9898e",
   "metadata": {},
   "outputs": [],
   "source": [
    "y_pred = ensemble.predict(x_test)"
   ]
  },
  {
   "cell_type": "code",
   "execution_count": 29,
   "id": "db443f17",
   "metadata": {},
   "outputs": [
    {
     "data": {
      "text/plain": [
       "array([0, 1, 1, 0, 0, 1, 1])"
      ]
     },
     "execution_count": 29,
     "metadata": {},
     "output_type": "execute_result"
    }
   ],
   "source": [
    "y_pred"
   ]
  },
  {
   "cell_type": "code",
   "execution_count": 30,
   "id": "81ee85b9",
   "metadata": {},
   "outputs": [
    {
     "data": {
      "text/plain": [
       "array([0, 1, 1, 0, 0, 0, 1])"
      ]
     },
     "execution_count": 30,
     "metadata": {},
     "output_type": "execute_result"
    }
   ],
   "source": [
    "y_test"
   ]
  },
  {
   "cell_type": "code",
   "execution_count": 31,
   "id": "bf09a67a",
   "metadata": {},
   "outputs": [
    {
     "data": {
      "text/plain": [
       "array([[3, 1],\n",
       "       [0, 3]], dtype=int64)"
      ]
     },
     "execution_count": 31,
     "metadata": {},
     "output_type": "execute_result"
    }
   ],
   "source": [
    "#confusion matrix\n",
    "cm_Ensembler = confusion_matrix(y_test, y_pred)\n",
    "cm_Ensembler"
   ]
  },
  {
   "cell_type": "code",
   "execution_count": 32,
   "id": "76babef9",
   "metadata": {},
   "outputs": [
    {
     "name": "stdout",
     "output_type": "stream",
     "text": [
      "Accuracy:  0.8571428571428571\n"
     ]
    }
   ],
   "source": [
    "acc_Ensembler = accuracy_score(y_pred, y_test)\n",
    "print(\"Accuracy: \",acc_Ensembler)"
   ]
  }
 ],
 "metadata": {
  "kernelspec": {
   "display_name": "Python 3 (ipykernel)",
   "language": "python",
   "name": "python3"
  },
  "language_info": {
   "codemirror_mode": {
    "name": "ipython",
    "version": 3
   },
   "file_extension": ".py",
   "mimetype": "text/x-python",
   "name": "python",
   "nbconvert_exporter": "python",
   "pygments_lexer": "ipython3",
   "version": "3.9.7"
  }
 },
 "nbformat": 4,
 "nbformat_minor": 5
}
