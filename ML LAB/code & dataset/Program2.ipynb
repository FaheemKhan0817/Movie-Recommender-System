{
 "cells": [
  {
   "cell_type": "markdown",
   "id": "5ab02c50",
   "metadata": {},
   "source": [
    "<h3>2.Write a Python program to map two lists into a dictionary and create manual dataset.</h3><br>"
   ]
  },
  {
   "cell_type": "markdown",
   "id": "8dba84b8",
   "metadata": {},
   "source": [
    "<p>Most pythonic and generic method to perform this very task is by using zip(). This function pairs the list element with other list element at corresponding index in form of key-value pairs.</P>"
   ]
  },
  {
   "cell_type": "code",
   "execution_count": 6,
   "id": "80ef99c8",
   "metadata": {},
   "outputs": [
    {
     "name": "stdout",
     "output_type": "stream",
     "text": [
      "Original key list is : ['Rash', 'Kil', 'Varsha']\n",
      "Original value list is : [1, 4, 5]\n",
      "Resultant dictionary is : {'Rash': 1, 'Kil': 4, 'Varsha': 5}\n"
     ]
    }
   ],
   "source": [
    "# Python3 code to demonstrate\n",
    "# conversion of lists to dictionary\n",
    "# using zip()\n",
    "\n",
    "# initializing lists\n",
    "test_keys = [\"Rash\", \"Kil\", \"Varsha\"]\n",
    "test_values = [1, 4, 5]\n",
    "\n",
    "# Printing original keys-value lists\n",
    "print (\"Original key list is : \" + str(test_keys))\n",
    "print (\"Original value list is : \" + str(test_values))\n",
    "\n",
    "# using zip()\n",
    "# to convert lists to dictionary\n",
    "res = dict(zip(test_keys, test_values))\n",
    "\n",
    "# Printing resultant dictionary\n",
    "print (\"Resultant dictionary is : \" + str(res))\n"
   ]
  },
  {
   "cell_type": "code",
   "execution_count": null,
   "id": "7f946cec",
   "metadata": {},
   "outputs": [],
   "source": []
  }
 ],
 "metadata": {
  "kernelspec": {
   "display_name": "Python 3 (ipykernel)",
   "language": "python",
   "name": "python3"
  },
  "language_info": {
   "codemirror_mode": {
    "name": "ipython",
    "version": 3
   },
   "file_extension": ".py",
   "mimetype": "text/x-python",
   "name": "python",
   "nbconvert_exporter": "python",
   "pygments_lexer": "ipython3",
   "version": "3.9.7"
  }
 },
 "nbformat": 4,
 "nbformat_minor": 5
}
